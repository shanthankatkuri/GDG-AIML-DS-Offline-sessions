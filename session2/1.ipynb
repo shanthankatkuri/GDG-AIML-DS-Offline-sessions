{
 "cells": [
  {
   "cell_type": "code",
   "execution_count": 80,
   "id": "d7c7d07f",
   "metadata": {},
   "outputs": [],
   "source": [
    "import pandas as pd\n",
    "import warnings"
   ]
  },
  {
   "cell_type": "code",
   "execution_count": 81,
   "id": "6757dd6a",
   "metadata": {},
   "outputs": [],
   "source": [
    "warnings.simplefilter(action='ignore', category=FutureWarning)"
   ]
  },
  {
   "cell_type": "markdown",
   "id": "13d59e3e",
   "metadata": {},
   "source": [
    "### Creating a DataFrame from dictionary"
   ]
  },
  {
   "cell_type": "code",
   "execution_count": 82,
   "id": "62068123",
   "metadata": {},
   "outputs": [],
   "source": [
    "data = {\n",
    "    'Name': ['Alice', 'Bob', 'Charlie', 'David', 'Eve'],\n",
    "    'Age': [24, 27, 22, 32, 29],\n",
    "    'City': ['New York', 'Los Angeles', 'Chicago', 'Houston', 'Phoenix'],\n",
    "    'Salary': [70000, 80000, 65000, 120000, 95000]\n",
    "}"
   ]
  },
  {
   "cell_type": "code",
   "execution_count": 83,
   "id": "590046c1-86a9-4d86-aa24-80d14aa07234",
   "metadata": {},
   "outputs": [
    {
     "data": {
      "text/plain": [
       "dict"
      ]
     },
     "execution_count": 83,
     "metadata": {},
     "output_type": "execute_result"
    }
   ],
   "source": [
    "type(data)"
   ]
  },
  {
   "cell_type": "code",
   "execution_count": 84,
   "id": "cd5a1dae",
   "metadata": {},
   "outputs": [
    {
     "name": "stdout",
     "output_type": "stream",
     "text": [
      "      Name  Age         City  Salary\n",
      "0    Alice   24     New York   70000\n",
      "1      Bob   27  Los Angeles   80000\n",
      "2  Charlie   22      Chicago   65000\n",
      "3    David   32      Houston  120000\n",
      "4      Eve   29      Phoenix   95000\n"
     ]
    }
   ],
   "source": [
    "df = pd.DataFrame(data)\n",
    "print(df)"
   ]
  },
  {
   "cell_type": "markdown",
   "id": "b3ffe271",
   "metadata": {},
   "source": [
    "### display"
   ]
  },
  {
   "cell_type": "code",
   "execution_count": 85,
   "id": "c9ff40f7",
   "metadata": {},
   "outputs": [
    {
     "name": "stdout",
     "output_type": "stream",
     "text": [
      "Head of the DataFrame:\n",
      "       Name  Age         City  Salary\n",
      "0    Alice   24     New York   70000\n",
      "1      Bob   27  Los Angeles   80000\n",
      "2  Charlie   22      Chicago   65000\n",
      "3    David   32      Houston  120000\n",
      "4      Eve   29      Phoenix   95000\n"
     ]
    }
   ],
   "source": [
    "# first 5 values\n",
    "print(\"Head of the DataFrame:\\n\", df.head())"
   ]
  },
  {
   "cell_type": "code",
   "execution_count": 86,
   "id": "4b70806c",
   "metadata": {},
   "outputs": [
    {
     "name": "stdout",
     "output_type": "stream",
     "text": [
      "First 2 values:\n",
      "     Name  Age         City  Salary\n",
      "0  Alice   24     New York   70000\n",
      "1    Bob   27  Los Angeles   80000\n"
     ]
    }
   ],
   "source": [
    "# first 2 values\n",
    "print(\"First 2 values:\\n\", df.head(2))"
   ]
  },
  {
   "cell_type": "code",
   "execution_count": 87,
   "id": "4b93c59a",
   "metadata": {},
   "outputs": [
    {
     "name": "stdout",
     "output_type": "stream",
     "text": [
      "\n",
      "Tail of the DataFrame:\n",
      "     Name  Age     City  Salary\n",
      "3  David   32  Houston  120000\n",
      "4    Eve   29  Phoenix   95000\n"
     ]
    }
   ],
   "source": [
    "# last 5 values\n",
    "print(\"\\nTail of the DataFrame:\\n\", df.tail(2))"
   ]
  },
  {
   "cell_type": "code",
   "execution_count": 88,
   "id": "d71b8aa0",
   "metadata": {},
   "outputs": [
    {
     "name": "stdout",
     "output_type": "stream",
     "text": [
      "\n",
      "Shape of the DataFrame: (5, 4)\n"
     ]
    }
   ],
   "source": [
    "# shape of the dataframe\n",
    "print(\"\\nShape of the DataFrame:\", df.shape)"
   ]
  },
  {
   "cell_type": "markdown",
   "id": "127cbcf7-8b03-41d5-a0cd-e2f66999c18e",
   "metadata": {},
   "source": [
    "Format: [rows, columns]"
   ]
  },
  {
   "cell_type": "code",
   "execution_count": 89,
   "id": "41dbf084",
   "metadata": {},
   "outputs": [
    {
     "name": "stdout",
     "output_type": "stream",
     "text": [
      "\n",
      "Summary statistics:\n",
      "              Age         Salary\n",
      "count   5.000000       5.000000\n",
      "mean   26.800000   86000.000000\n",
      "std     3.962323   22192.341021\n",
      "min    22.000000   65000.000000\n",
      "25%    24.000000   70000.000000\n",
      "50%    27.000000   80000.000000\n",
      "75%    29.000000   95000.000000\n",
      "max    32.000000  120000.000000\n"
     ]
    }
   ],
   "source": [
    "# summary statistics\n",
    "print(\"\\nSummary statistics:\\n\", df.describe())"
   ]
  },
  {
   "cell_type": "markdown",
   "id": "5b946ca7",
   "metadata": {},
   "source": [
    "### Column operations"
   ]
  },
  {
   "cell_type": "code",
   "execution_count": 90,
   "id": "953ec469",
   "metadata": {},
   "outputs": [
    {
     "name": "stdout",
     "output_type": "stream",
     "text": [
      "\n",
      "Column names: Index(['Name', 'Age', 'City', 'Salary'], dtype='object')\n"
     ]
    }
   ],
   "source": [
    "# column names\n",
    "print(\"\\nColumn names:\", df.columns)"
   ]
  },
  {
   "cell_type": "code",
   "execution_count": 91,
   "id": "d9312d9f",
   "metadata": {},
   "outputs": [
    {
     "name": "stdout",
     "output_type": "stream",
     "text": [
      "\n",
      "Select a single column (Age):\n",
      " 0    24\n",
      "1    27\n",
      "2    22\n",
      "3    32\n",
      "4    29\n",
      "Name: Age, dtype: int64\n"
     ]
    }
   ],
   "source": [
    "# a single column\n",
    "print(\"\\nSelect a single column (Age):\\n\", df['Age'])"
   ]
  },
  {
   "cell_type": "code",
   "execution_count": 92,
   "id": "0201bacf-e1d1-410f-a23b-3bb6b28c43d3",
   "metadata": {},
   "outputs": [
    {
     "data": {
      "text/html": [
       "<div>\n",
       "<style scoped>\n",
       "    .dataframe tbody tr th:only-of-type {\n",
       "        vertical-align: middle;\n",
       "    }\n",
       "\n",
       "    .dataframe tbody tr th {\n",
       "        vertical-align: top;\n",
       "    }\n",
       "\n",
       "    .dataframe thead th {\n",
       "        text-align: right;\n",
       "    }\n",
       "</style>\n",
       "<table border=\"1\" class=\"dataframe\">\n",
       "  <thead>\n",
       "    <tr style=\"text-align: right;\">\n",
       "      <th></th>\n",
       "      <th>Name</th>\n",
       "      <th>Age</th>\n",
       "    </tr>\n",
       "  </thead>\n",
       "  <tbody>\n",
       "    <tr>\n",
       "      <th>0</th>\n",
       "      <td>Alice</td>\n",
       "      <td>24</td>\n",
       "    </tr>\n",
       "    <tr>\n",
       "      <th>1</th>\n",
       "      <td>Bob</td>\n",
       "      <td>27</td>\n",
       "    </tr>\n",
       "    <tr>\n",
       "      <th>2</th>\n",
       "      <td>Charlie</td>\n",
       "      <td>22</td>\n",
       "    </tr>\n",
       "    <tr>\n",
       "      <th>3</th>\n",
       "      <td>David</td>\n",
       "      <td>32</td>\n",
       "    </tr>\n",
       "    <tr>\n",
       "      <th>4</th>\n",
       "      <td>Eve</td>\n",
       "      <td>29</td>\n",
       "    </tr>\n",
       "  </tbody>\n",
       "</table>\n",
       "</div>"
      ],
      "text/plain": [
       "      Name  Age\n",
       "0    Alice   24\n",
       "1      Bob   27\n",
       "2  Charlie   22\n",
       "3    David   32\n",
       "4      Eve   29"
      ]
     },
     "execution_count": 92,
     "metadata": {},
     "output_type": "execute_result"
    }
   ],
   "source": [
    "df[[\"Name\", \"Age\"]]"
   ]
  },
  {
   "cell_type": "code",
   "execution_count": 93,
   "id": "146bbd25",
   "metadata": {},
   "outputs": [
    {
     "name": "stdout",
     "output_type": "stream",
     "text": [
      "\n",
      "Select multiple columns (Name and Salary):\n",
      "       Name  Salary\n",
      "0    Alice   70000\n",
      "1      Bob   80000\n",
      "2  Charlie   65000\n",
      "3    David  120000\n",
      "4      Eve   95000\n"
     ]
    }
   ],
   "source": [
    "# multiple columns\n",
    "print(\"\\nSelect multiple columns (Name and Salary):\\n\", df[['Name', 'Salary']])"
   ]
  },
  {
   "cell_type": "code",
   "execution_count": 94,
   "id": "9be91c48-f233-4381-8e69-28c3d6a47018",
   "metadata": {},
   "outputs": [
    {
     "data": {
      "text/html": [
       "<div>\n",
       "<style scoped>\n",
       "    .dataframe tbody tr th:only-of-type {\n",
       "        vertical-align: middle;\n",
       "    }\n",
       "\n",
       "    .dataframe tbody tr th {\n",
       "        vertical-align: top;\n",
       "    }\n",
       "\n",
       "    .dataframe thead th {\n",
       "        text-align: right;\n",
       "    }\n",
       "</style>\n",
       "<table border=\"1\" class=\"dataframe\">\n",
       "  <thead>\n",
       "    <tr style=\"text-align: right;\">\n",
       "      <th></th>\n",
       "      <th>Name</th>\n",
       "      <th>Age</th>\n",
       "      <th>City</th>\n",
       "      <th>Salary</th>\n",
       "    </tr>\n",
       "  </thead>\n",
       "  <tbody>\n",
       "    <tr>\n",
       "      <th>1</th>\n",
       "      <td>Bob</td>\n",
       "      <td>27</td>\n",
       "      <td>Los Angeles</td>\n",
       "      <td>80000</td>\n",
       "    </tr>\n",
       "    <tr>\n",
       "      <th>3</th>\n",
       "      <td>David</td>\n",
       "      <td>32</td>\n",
       "      <td>Houston</td>\n",
       "      <td>120000</td>\n",
       "    </tr>\n",
       "    <tr>\n",
       "      <th>4</th>\n",
       "      <td>Eve</td>\n",
       "      <td>29</td>\n",
       "      <td>Phoenix</td>\n",
       "      <td>95000</td>\n",
       "    </tr>\n",
       "  </tbody>\n",
       "</table>\n",
       "</div>"
      ],
      "text/plain": [
       "    Name  Age         City  Salary\n",
       "1    Bob   27  Los Angeles   80000\n",
       "3  David   32      Houston  120000\n",
       "4    Eve   29      Phoenix   95000"
      ]
     },
     "execution_count": 94,
     "metadata": {},
     "output_type": "execute_result"
    }
   ],
   "source": [
    "df[df['Salary']>70000] #Comparing all the \"Salary\" rows, and only selecting the ones which are having salary greater than 70000"
   ]
  },
  {
   "cell_type": "code",
   "execution_count": 95,
   "id": "22a0d6c3-b9db-4fe6-b486-729838002654",
   "metadata": {},
   "outputs": [
    {
     "data": {
      "text/plain": [
       "0     70000\n",
       "1     80000\n",
       "2     65000\n",
       "3    120000\n",
       "4     95000\n",
       "Name: Salary, dtype: int64"
      ]
     },
     "execution_count": 95,
     "metadata": {},
     "output_type": "execute_result"
    }
   ],
   "source": [
    "\n",
    "df[\"Salary\"]"
   ]
  },
  {
   "cell_type": "code",
   "execution_count": 96,
   "id": "5c5b05e8",
   "metadata": {},
   "outputs": [
    {
     "name": "stdout",
     "output_type": "stream",
     "text": [
      "\n",
      "Rows where Age > 25:\n",
      "     Name  Age         City  Salary\n",
      "1    Bob   27  Los Angeles   80000\n",
      "3  David   32      Houston  120000\n",
      "4    Eve   29      Phoenix   95000\n"
     ]
    }
   ],
   "source": [
    "# Filter rows based on a condition\n",
    "print(\"\\nRows where Age > 25:\\n\", df[df['Age'] > 25])"
   ]
  },
  {
   "cell_type": "code",
   "execution_count": 97,
   "id": "2e0bd17c",
   "metadata": {},
   "outputs": [
    {
     "name": "stdout",
     "output_type": "stream",
     "text": [
      "\n",
      "DataFrame after adding Experience column:\n",
      "       Name  Age         City  Salary  Experience\n",
      "0    Alice   24     New York   70000           2\n",
      "1      Bob   27  Los Angeles   80000           5\n",
      "2  Charlie   22      Chicago   65000           1\n",
      "3    David   32      Houston  120000          10\n",
      "4      Eve   29      Phoenix   95000           8\n"
     ]
    }
   ],
   "source": [
    "# Add a new column\n",
    "df['Experience'] = [2, 5, 1, 10,8]\n",
    "print(\"\\nDataFrame after adding Experience column:\\n\", df)"
   ]
  },
  {
   "cell_type": "code",
   "execution_count": 98,
   "id": "286a88f2-4589-41bf-9559-7bd021db42bf",
   "metadata": {},
   "outputs": [
    {
     "name": "stdout",
     "output_type": "stream",
     "text": [
      "[1, 2]\n"
     ]
    }
   ],
   "source": [
    "print([1, 2])"
   ]
  },
  {
   "cell_type": "code",
   "execution_count": 99,
   "id": "4c5a4236",
   "metadata": {},
   "outputs": [
    {
     "name": "stdout",
     "output_type": "stream",
     "text": [
      "\n",
      "DataFrame after removing City column:\n",
      "       Name  Age  Salary  Experience\n",
      "0    Alice   24   70000           2\n",
      "1      Bob   27   80000           5\n",
      "2  Charlie   22   65000           1\n",
      "3    David   32  120000          10\n",
      "4      Eve   29   95000           8\n"
     ]
    }
   ],
   "source": [
    "# Remove a column\n",
    "df=df.drop('City', axis=1)\n",
    "print(\"\\nDataFrame after removing City column:\\n\", df)"
   ]
  },
  {
   "cell_type": "markdown",
   "id": "28685b78",
   "metadata": {},
   "source": [
    "Similarly of we had to drop a whole row, then we should be setting up the axis as 0 and define the index name, here the index that we have is the serial Nos (i.e 0,1,2,3,4), the serial numbers become the identifier.\n",
    "\n",
    "**Note**: Here you woule be setting the axis as 1 because of the *Format* that we discussed before ([Rows, Columns]), and our requirement was to remove a row "
   ]
  },
  {
   "cell_type": "code",
   "execution_count": 100,
   "id": "e6652e5c",
   "metadata": {},
   "outputs": [
    {
     "data": {
      "text/html": [
       "<div>\n",
       "<style scoped>\n",
       "    .dataframe tbody tr th:only-of-type {\n",
       "        vertical-align: middle;\n",
       "    }\n",
       "\n",
       "    .dataframe tbody tr th {\n",
       "        vertical-align: top;\n",
       "    }\n",
       "\n",
       "    .dataframe thead th {\n",
       "        text-align: right;\n",
       "    }\n",
       "</style>\n",
       "<table border=\"1\" class=\"dataframe\">\n",
       "  <thead>\n",
       "    <tr style=\"text-align: right;\">\n",
       "      <th></th>\n",
       "      <th>Name</th>\n",
       "      <th>Age</th>\n",
       "      <th>Salary</th>\n",
       "      <th>Experience</th>\n",
       "    </tr>\n",
       "  </thead>\n",
       "  <tbody>\n",
       "    <tr>\n",
       "      <th>1</th>\n",
       "      <td>Bob</td>\n",
       "      <td>27</td>\n",
       "      <td>80000</td>\n",
       "      <td>5</td>\n",
       "    </tr>\n",
       "    <tr>\n",
       "      <th>2</th>\n",
       "      <td>Charlie</td>\n",
       "      <td>22</td>\n",
       "      <td>65000</td>\n",
       "      <td>1</td>\n",
       "    </tr>\n",
       "    <tr>\n",
       "      <th>3</th>\n",
       "      <td>David</td>\n",
       "      <td>32</td>\n",
       "      <td>120000</td>\n",
       "      <td>10</td>\n",
       "    </tr>\n",
       "    <tr>\n",
       "      <th>4</th>\n",
       "      <td>Eve</td>\n",
       "      <td>29</td>\n",
       "      <td>95000</td>\n",
       "      <td>8</td>\n",
       "    </tr>\n",
       "  </tbody>\n",
       "</table>\n",
       "</div>"
      ],
      "text/plain": [
       "      Name  Age  Salary  Experience\n",
       "1      Bob   27   80000           5\n",
       "2  Charlie   22   65000           1\n",
       "3    David   32  120000          10\n",
       "4      Eve   29   95000           8"
      ]
     },
     "execution_count": 100,
     "metadata": {},
     "output_type": "execute_result"
    }
   ],
   "source": [
    "df.drop(0, axis=0) # Here i want to remove the first row. Hence I will mention the identifier value (in our case is index) and axis value"
   ]
  },
  {
   "cell_type": "code",
   "execution_count": 101,
   "id": "243fc7f6",
   "metadata": {},
   "outputs": [
    {
     "name": "stdout",
     "output_type": "stream",
     "text": [
      "\n",
      "DataFrame after renaming columns:\n",
      "   Employee Name  Age  Salary  Experience\n",
      "0         Alice   24   70000           2\n",
      "1           Bob   27   80000           5\n",
      "2       Charlie   22   65000           1\n",
      "3         David   32  120000          10\n",
      "4           Eve   29   95000           8\n"
     ]
    }
   ],
   "source": [
    "# Rename columns\n",
    "df.rename(columns={'Name': 'Employee Name'}, inplace=True)\n",
    "print(\"\\nDataFrame after renaming columns:\\n\", df)"
   ]
  },
  {
   "cell_type": "markdown",
   "id": "8d26f09b",
   "metadata": {},
   "source": [
    "The `inplace=True` has to be set because it would make an **permanent change in your dataframe** "
   ]
  },
  {
   "cell_type": "markdown",
   "id": "828e8515",
   "metadata": {},
   "source": [
    "### Handling missing values"
   ]
  },
  {
   "cell_type": "code",
   "execution_count": 102,
   "id": "b98230f2",
   "metadata": {},
   "outputs": [
    {
     "name": "stdout",
     "output_type": "stream",
     "text": [
      "\n",
      "DataFrame with NaN value:\n",
      "   Employee Name   Age  Salary  Experience\n",
      "0         Alice  24.0   70000           2\n",
      "1           Bob  27.0   80000           5\n",
      "2       Charlie   NaN   65000           1\n",
      "3         David  32.0  120000          10\n",
      "4           Eve  29.0   95000           8\n"
     ]
    }
   ],
   "source": [
    "# Adding a NaN value for demonstration\n",
    "df.at[2, 'Age'] = None\n",
    "print(\"\\nDataFrame with NaN value:\\n\", df)"
   ]
  },
  {
   "cell_type": "markdown",
   "id": "a8265dc8",
   "metadata": {},
   "source": [
    "Now you have to know where the missing values is, this is a simple data if you work for a industry the size of the data incereases alot and finding manually from them is impractical herce we use the following syntax to,\n",
    "* To find the null values as in the form of table\n",
    "* To find the total number of null values in each columns"
   ]
  },
  {
   "cell_type": "code",
   "execution_count": 103,
   "id": "2aaf3e70",
   "metadata": {},
   "outputs": [
    {
     "name": "stdout",
     "output_type": "stream",
     "text": [
      "   Employee Name    Age  Salary  Experience\n",
      "0          False  False   False       False\n",
      "1          False  False   False       False\n",
      "2          False   True   False       False\n",
      "3          False  False   False       False\n",
      "4          False  False   False       False\n"
     ]
    }
   ],
   "source": [
    "#To find the null values as in the form of table\n",
    "print (df.isna())"
   ]
  },
  {
   "cell_type": "markdown",
   "id": "fe970eb2",
   "metadata": {},
   "source": [
    "Here the whole table was iterated and wherever the null values were present an `True` boolean value was setup."
   ]
  },
  {
   "cell_type": "code",
   "execution_count": 104,
   "id": "187397c5",
   "metadata": {},
   "outputs": [
    {
     "name": "stdout",
     "output_type": "stream",
     "text": [
      "Employee Name    0\n",
      "Age              1\n",
      "Salary           0\n",
      "Experience       0\n",
      "dtype: int64\n"
     ]
    }
   ],
   "source": [
    "#To find total number of null values\n",
    "print (df.isna().sum())"
   ]
  },
  {
   "cell_type": "markdown",
   "id": "d5aa5c16",
   "metadata": {},
   "source": [
    "So from the above data we got to know we had a null value in the age column hence missing data input should be done in those columns. Hence the above code helps us identify where the null values are"
   ]
  },
  {
   "cell_type": "code",
   "execution_count": 105,
   "id": "5933aec3-a695-4168-8ce9-8db718177743",
   "metadata": {},
   "outputs": [
    {
     "data": {
      "text/plain": [
       "28.0"
      ]
     },
     "execution_count": 105,
     "metadata": {},
     "output_type": "execute_result"
    }
   ],
   "source": [
    "df[\"Age\"].mean()"
   ]
  },
  {
   "cell_type": "code",
   "execution_count": 106,
   "id": "de28f7e7",
   "metadata": {},
   "outputs": [
    {
     "name": "stderr",
     "output_type": "stream",
     "text": [
      "C:\\Users\\rohit\\AppData\\Local\\Temp\\ipykernel_2444\\3137913243.py:3: SettingWithCopyWarning: \n",
      "A value is trying to be set on a copy of a slice from a DataFrame\n",
      "\n",
      "See the caveats in the documentation: https://pandas.pydata.org/pandas-docs/stable/user_guide/indexing.html#returning-a-view-versus-a-copy\n",
      "  test_df[\"Age\"].fillna(test_df[\"Age\"].mean(), inplace=True)\n"
     ]
    },
    {
     "data": {
      "text/html": [
       "<div>\n",
       "<style scoped>\n",
       "    .dataframe tbody tr th:only-of-type {\n",
       "        vertical-align: middle;\n",
       "    }\n",
       "\n",
       "    .dataframe tbody tr th {\n",
       "        vertical-align: top;\n",
       "    }\n",
       "\n",
       "    .dataframe thead th {\n",
       "        text-align: right;\n",
       "    }\n",
       "</style>\n",
       "<table border=\"1\" class=\"dataframe\">\n",
       "  <thead>\n",
       "    <tr style=\"text-align: right;\">\n",
       "      <th></th>\n",
       "      <th>Employee Name</th>\n",
       "      <th>Age</th>\n",
       "      <th>Salary</th>\n",
       "      <th>Experience</th>\n",
       "    </tr>\n",
       "  </thead>\n",
       "  <tbody>\n",
       "    <tr>\n",
       "      <th>0</th>\n",
       "      <td>Alice</td>\n",
       "      <td>24.0</td>\n",
       "      <td>70000</td>\n",
       "      <td>2</td>\n",
       "    </tr>\n",
       "    <tr>\n",
       "      <th>1</th>\n",
       "      <td>Bob</td>\n",
       "      <td>27.0</td>\n",
       "      <td>80000</td>\n",
       "      <td>5</td>\n",
       "    </tr>\n",
       "    <tr>\n",
       "      <th>2</th>\n",
       "      <td>Charlie</td>\n",
       "      <td>28.0</td>\n",
       "      <td>65000</td>\n",
       "      <td>1</td>\n",
       "    </tr>\n",
       "    <tr>\n",
       "      <th>3</th>\n",
       "      <td>David</td>\n",
       "      <td>32.0</td>\n",
       "      <td>120000</td>\n",
       "      <td>10</td>\n",
       "    </tr>\n",
       "    <tr>\n",
       "      <th>4</th>\n",
       "      <td>Eve</td>\n",
       "      <td>29.0</td>\n",
       "      <td>95000</td>\n",
       "      <td>8</td>\n",
       "    </tr>\n",
       "  </tbody>\n",
       "</table>\n",
       "</div>"
      ],
      "text/plain": [
       "  Employee Name   Age  Salary  Experience\n",
       "0         Alice  24.0   70000           2\n",
       "1           Bob  27.0   80000           5\n",
       "2       Charlie  28.0   65000           1\n",
       "3         David  32.0  120000          10\n",
       "4           Eve  29.0   95000           8"
      ]
     },
     "execution_count": 106,
     "metadata": {},
     "output_type": "execute_result"
    }
   ],
   "source": [
    "#Filling the age column with mean\n",
    "test_df=df[:] #--> This syntax df[:] copys the dataframe into the variable test_df\n",
    "test_df[\"Age\"].fillna(test_df[\"Age\"].mean(), inplace=True)\n",
    "test_df"
   ]
  },
  {
   "cell_type": "markdown",
   "id": "17940cd8",
   "metadata": {},
   "source": [
    "In the above cell we filled the `NAN` values with the mean, similarlyif we had to fill the `NAN` with median or mode."
   ]
  },
  {
   "cell_type": "code",
   "execution_count": 107,
   "id": "454af3c4",
   "metadata": {},
   "outputs": [
    {
     "name": "stdout",
     "output_type": "stream",
     "text": [
      "Dataframe where the Age column has been filled with the median\n",
      "  Employee Name   Age  Salary  Experience\n",
      "0         Alice  24.0   70000           2\n",
      "1           Bob  27.0   80000           5\n",
      "2       Charlie  28.0   65000           1\n",
      "3         David  32.0  120000          10\n",
      "4           Eve  29.0   95000           8\n",
      "Dataframe where the Age column has been filled with the mean\n",
      "  Employee Name   Age  Salary  Experience\n",
      "0         Alice  24.0   70000           2\n",
      "1           Bob  27.0   80000           5\n",
      "2       Charlie  28.0   65000           1\n",
      "3         David  32.0  120000          10\n",
      "4           Eve  29.0   95000           8\n"
     ]
    },
    {
     "name": "stderr",
     "output_type": "stream",
     "text": [
      "C:\\Users\\rohit\\AppData\\Local\\Temp\\ipykernel_2444\\1499922977.py:4: SettingWithCopyWarning: \n",
      "A value is trying to be set on a copy of a slice from a DataFrame\n",
      "\n",
      "See the caveats in the documentation: https://pandas.pydata.org/pandas-docs/stable/user_guide/indexing.html#returning-a-view-versus-a-copy\n",
      "  test2_df[\"Age\"].fillna(test2_df[\"Age\"].median(), inplace=True)\n",
      "C:\\Users\\rohit\\AppData\\Local\\Temp\\ipykernel_2444\\1499922977.py:7: SettingWithCopyWarning: \n",
      "A value is trying to be set on a copy of a slice from a DataFrame\n",
      "\n",
      "See the caveats in the documentation: https://pandas.pydata.org/pandas-docs/stable/user_guide/indexing.html#returning-a-view-versus-a-copy\n",
      "  test3_df[\"Age\"].fillna(test3_df[\"Age\"].mean(), inplace=True)\n"
     ]
    }
   ],
   "source": [
    "test2_df=df[:]\n",
    "test3_df=df[:]\n",
    "print (\"Dataframe where the Age column has been filled with the median\")\n",
    "test2_df[\"Age\"].fillna(test2_df[\"Age\"].median(), inplace=True)\n",
    "print (test2_df)\n",
    "print (\"Dataframe where the Age column has been filled with the mean\")\n",
    "test3_df[\"Age\"].fillna(test3_df[\"Age\"].mean(), inplace=True)\n",
    "print(test3_df)"
   ]
  },
  {
   "cell_type": "markdown",
   "id": "7551cff3",
   "metadata": {},
   "source": [
    "Now what if we had a null value in the Object Type, we use the `bfill` and `ffill`"
   ]
  },
  {
   "cell_type": "code",
   "execution_count": 108,
   "id": "f532b599",
   "metadata": {},
   "outputs": [],
   "source": [
    "df.at[2, \"Employee Name\"]=None"
   ]
  },
  {
   "cell_type": "code",
   "execution_count": 109,
   "id": "0d93d103",
   "metadata": {},
   "outputs": [
    {
     "data": {
      "text/html": [
       "<div>\n",
       "<style scoped>\n",
       "    .dataframe tbody tr th:only-of-type {\n",
       "        vertical-align: middle;\n",
       "    }\n",
       "\n",
       "    .dataframe tbody tr th {\n",
       "        vertical-align: top;\n",
       "    }\n",
       "\n",
       "    .dataframe thead th {\n",
       "        text-align: right;\n",
       "    }\n",
       "</style>\n",
       "<table border=\"1\" class=\"dataframe\">\n",
       "  <thead>\n",
       "    <tr style=\"text-align: right;\">\n",
       "      <th></th>\n",
       "      <th>Employee Name</th>\n",
       "      <th>Age</th>\n",
       "      <th>Salary</th>\n",
       "      <th>Experience</th>\n",
       "    </tr>\n",
       "  </thead>\n",
       "  <tbody>\n",
       "    <tr>\n",
       "      <th>0</th>\n",
       "      <td>Alice</td>\n",
       "      <td>24.0</td>\n",
       "      <td>70000</td>\n",
       "      <td>2</td>\n",
       "    </tr>\n",
       "    <tr>\n",
       "      <th>1</th>\n",
       "      <td>Bob</td>\n",
       "      <td>27.0</td>\n",
       "      <td>80000</td>\n",
       "      <td>5</td>\n",
       "    </tr>\n",
       "    <tr>\n",
       "      <th>2</th>\n",
       "      <td>None</td>\n",
       "      <td>28.0</td>\n",
       "      <td>65000</td>\n",
       "      <td>1</td>\n",
       "    </tr>\n",
       "    <tr>\n",
       "      <th>3</th>\n",
       "      <td>David</td>\n",
       "      <td>32.0</td>\n",
       "      <td>120000</td>\n",
       "      <td>10</td>\n",
       "    </tr>\n",
       "    <tr>\n",
       "      <th>4</th>\n",
       "      <td>Eve</td>\n",
       "      <td>29.0</td>\n",
       "      <td>95000</td>\n",
       "      <td>8</td>\n",
       "    </tr>\n",
       "  </tbody>\n",
       "</table>\n",
       "</div>"
      ],
      "text/plain": [
       "  Employee Name   Age  Salary  Experience\n",
       "0         Alice  24.0   70000           2\n",
       "1           Bob  27.0   80000           5\n",
       "2          None  28.0   65000           1\n",
       "3         David  32.0  120000          10\n",
       "4           Eve  29.0   95000           8"
      ]
     },
     "execution_count": 109,
     "metadata": {},
     "output_type": "execute_result"
    }
   ],
   "source": [
    "df.head()"
   ]
  },
  {
   "cell_type": "code",
   "execution_count": 114,
   "id": "10905ac0-e6b3-42a5-88e6-da41deed3363",
   "metadata": {},
   "outputs": [],
   "source": [
    "df=df.ffill()"
   ]
  },
  {
   "cell_type": "markdown",
   "id": "367cb018",
   "metadata": {},
   "source": [
    "Did a forward fill in the NAN values, here you should not mention the columns as it identifies on it own. \n",
    "\n",
    "**Note**: If you want to do handling of missing data to the int64 or float64 you need to do before handed itself, after doing those you could perform handling of missing data on the object type data. If done in revere form then,\n",
    "* The null values in int columns would be filled with wrong/mathematically wrong values\n",
    "* Improper predictions by ML Model"
   ]
  },
  {
   "cell_type": "code",
   "execution_count": 115,
   "id": "4f08ed45",
   "metadata": {},
   "outputs": [
    {
     "data": {
      "text/html": [
       "<div>\n",
       "<style scoped>\n",
       "    .dataframe tbody tr th:only-of-type {\n",
       "        vertical-align: middle;\n",
       "    }\n",
       "\n",
       "    .dataframe tbody tr th {\n",
       "        vertical-align: top;\n",
       "    }\n",
       "\n",
       "    .dataframe thead th {\n",
       "        text-align: right;\n",
       "    }\n",
       "</style>\n",
       "<table border=\"1\" class=\"dataframe\">\n",
       "  <thead>\n",
       "    <tr style=\"text-align: right;\">\n",
       "      <th></th>\n",
       "      <th>Employee Name</th>\n",
       "      <th>Age</th>\n",
       "      <th>Salary</th>\n",
       "      <th>Experience</th>\n",
       "    </tr>\n",
       "  </thead>\n",
       "  <tbody>\n",
       "    <tr>\n",
       "      <th>0</th>\n",
       "      <td>Alice</td>\n",
       "      <td>24.0</td>\n",
       "      <td>70000</td>\n",
       "      <td>2</td>\n",
       "    </tr>\n",
       "    <tr>\n",
       "      <th>1</th>\n",
       "      <td>Bob</td>\n",
       "      <td>27.0</td>\n",
       "      <td>80000</td>\n",
       "      <td>5</td>\n",
       "    </tr>\n",
       "    <tr>\n",
       "      <th>2</th>\n",
       "      <td>Bob</td>\n",
       "      <td>28.0</td>\n",
       "      <td>65000</td>\n",
       "      <td>1</td>\n",
       "    </tr>\n",
       "    <tr>\n",
       "      <th>3</th>\n",
       "      <td>David</td>\n",
       "      <td>32.0</td>\n",
       "      <td>120000</td>\n",
       "      <td>10</td>\n",
       "    </tr>\n",
       "    <tr>\n",
       "      <th>4</th>\n",
       "      <td>Eve</td>\n",
       "      <td>29.0</td>\n",
       "      <td>95000</td>\n",
       "      <td>8</td>\n",
       "    </tr>\n",
       "  </tbody>\n",
       "</table>\n",
       "</div>"
      ],
      "text/plain": [
       "  Employee Name   Age  Salary  Experience\n",
       "0         Alice  24.0   70000           2\n",
       "1           Bob  27.0   80000           5\n",
       "2           Bob  28.0   65000           1\n",
       "3         David  32.0  120000          10\n",
       "4           Eve  29.0   95000           8"
      ]
     },
     "execution_count": 115,
     "metadata": {},
     "output_type": "execute_result"
    }
   ],
   "source": [
    "df.head()"
   ]
  },
  {
   "cell_type": "markdown",
   "id": "96e9482e",
   "metadata": {},
   "source": [
    "### Grouping and sorting data"
   ]
  },
  {
   "cell_type": "code",
   "execution_count": 129,
   "id": "7b102a8f-9bf9-4cde-8a6b-99c5a544d2f8",
   "metadata": {},
   "outputs": [
    {
     "data": {
      "text/html": [
       "<div>\n",
       "<style scoped>\n",
       "    .dataframe tbody tr th:only-of-type {\n",
       "        vertical-align: middle;\n",
       "    }\n",
       "\n",
       "    .dataframe tbody tr th {\n",
       "        vertical-align: top;\n",
       "    }\n",
       "\n",
       "    .dataframe thead th {\n",
       "        text-align: right;\n",
       "    }\n",
       "</style>\n",
       "<table border=\"1\" class=\"dataframe\">\n",
       "  <thead>\n",
       "    <tr style=\"text-align: right;\">\n",
       "      <th></th>\n",
       "      <th>Employee Name</th>\n",
       "      <th>Age</th>\n",
       "      <th>Salary</th>\n",
       "      <th>Experience</th>\n",
       "    </tr>\n",
       "  </thead>\n",
       "  <tbody>\n",
       "    <tr>\n",
       "      <th>0</th>\n",
       "      <td>Alice</td>\n",
       "      <td>24.0</td>\n",
       "      <td>70000</td>\n",
       "      <td>2</td>\n",
       "    </tr>\n",
       "    <tr>\n",
       "      <th>1</th>\n",
       "      <td>Bob</td>\n",
       "      <td>27.0</td>\n",
       "      <td>80000</td>\n",
       "      <td>5</td>\n",
       "    </tr>\n",
       "    <tr>\n",
       "      <th>2</th>\n",
       "      <td>Bob</td>\n",
       "      <td>28.0</td>\n",
       "      <td>65000</td>\n",
       "      <td>1</td>\n",
       "    </tr>\n",
       "    <tr>\n",
       "      <th>3</th>\n",
       "      <td>David</td>\n",
       "      <td>32.0</td>\n",
       "      <td>120000</td>\n",
       "      <td>10</td>\n",
       "    </tr>\n",
       "    <tr>\n",
       "      <th>4</th>\n",
       "      <td>Eve</td>\n",
       "      <td>29.0</td>\n",
       "      <td>95000</td>\n",
       "      <td>8</td>\n",
       "    </tr>\n",
       "    <tr>\n",
       "      <th>5</th>\n",
       "      <td>Rohit</td>\n",
       "      <td>20.0</td>\n",
       "      <td>70000</td>\n",
       "      <td>2</td>\n",
       "    </tr>\n",
       "    <tr>\n",
       "      <th>6</th>\n",
       "      <td>Rohit</td>\n",
       "      <td>20.0</td>\n",
       "      <td>100000000</td>\n",
       "      <td>2</td>\n",
       "    </tr>\n",
       "  </tbody>\n",
       "</table>\n",
       "</div>"
      ],
      "text/plain": [
       "  Employee Name   Age     Salary  Experience\n",
       "0         Alice  24.0      70000           2\n",
       "1           Bob  27.0      80000           5\n",
       "2           Bob  28.0      65000           1\n",
       "3         David  32.0     120000          10\n",
       "4           Eve  29.0      95000           8\n",
       "5         Rohit  20.0      70000           2\n",
       "6         Rohit  20.0  100000000           2"
      ]
     },
     "execution_count": 129,
     "metadata": {},
     "output_type": "execute_result"
    }
   ],
   "source": [
    "df.loc[len(df)]=[\"Rohit\",20,100000000,2]\n",
    "df"
   ]
  },
  {
   "cell_type": "code",
   "execution_count": 136,
   "id": "87754fb8",
   "metadata": {},
   "outputs": [
    {
     "name": "stdout",
     "output_type": "stream",
     "text": [
      "              Employee Name   Age     Salary\n",
      "Experience                                  \n",
      "1                       Bob  28.0      65000\n",
      "2           AliceRohitRohit  64.0  100140000\n",
      "5                       Bob  27.0      80000\n",
      "8                       Eve  29.0      95000\n",
      "10                    David  32.0     120000\n"
     ]
    }
   ],
   "source": [
    "#cell 1\n",
    "print(df.groupby(\"Experience\").sum()) # This basically clubbed all the values, notice how the columsn with experience clubbed all the common experience row values eg \"AliceRohitRohit\" with same experience"
   ]
  },
  {
   "cell_type": "code",
   "execution_count": 130,
   "id": "86b164ef",
   "metadata": {},
   "outputs": [
    {
     "name": "stdout",
     "output_type": "stream",
     "text": [
      "\n",
      "Grouped DataFrame by Experience:\n",
      " Experience\n",
      "1        65000.0\n",
      "2     33380000.0\n",
      "5        80000.0\n",
      "8        95000.0\n",
      "10      120000.0\n",
      "Name: Salary, dtype: float64\n"
     ]
    }
   ],
   "source": [
    "# Grouping data\n",
    "grouped = df.groupby('Experience')[\"Salary\"].mean()\n",
    "print(\"\\nGrouped DataFrame by Experience:\\n\", grouped)"
   ]
  },
  {
   "cell_type": "markdown",
   "id": "df97e0a7",
   "metadata": {},
   "source": [
    "In the above cell we built a step code, which does teh following:\n",
    "* df.groupby(): This would group all the values which are in common into a single row, for example: we had the Experience set as parameter, now this group value would club all the experiences which has 1, 2, 5, 8, 10 and return a distinct dataframe with all the clubbed values. \n",
    "\n",
    "\n",
    "* df.groupby(\"Experience\"): Join all the rows which have same values in experience columns. (goto cell 1 for viewing the expample data) \n",
    "\n",
    "\n",
    "* df.groupby(\"Experience\")[\"Salary\"]: For calculating the mean we need some value, and that value is the \"Salary\", Note the value inside the \"[]\" shiuld be a int or float datatype.\n",
    "\n",
    "\n",
    "* df.groupby('Experience')[\"Salary\"].mean(): Calculate the mean!"
   ]
  },
  {
   "cell_type": "code",
   "execution_count": 126,
   "id": "0c43c545",
   "metadata": {},
   "outputs": [
    {
     "data": {
      "text/plain": [
       "0     2\n",
       "1     5\n",
       "2     1\n",
       "3    10\n",
       "4     8\n",
       "5     2\n",
       "Name: Experience, dtype: object"
      ]
     },
     "execution_count": 126,
     "metadata": {},
     "output_type": "execute_result"
    }
   ],
   "source": [
    "df[\"Experience\"].astype(str)"
   ]
  },
  {
   "cell_type": "code",
   "execution_count": 57,
   "id": "7fda34e0",
   "metadata": {},
   "outputs": [
    {
     "name": "stdout",
     "output_type": "stream",
     "text": [
      "\n",
      "DataFrame sorted by Salary (descending):\n",
      "   Employee Name  Emp Age  Salary  Experience\n",
      "3         David       32  120000          10\n",
      "4           Eve       29   95000           8\n",
      "1           Bob       27   80000           5\n",
      "0         Alice       24   70000           2\n",
      "5         Rohit       20   70000           2\n",
      "2          None       22   65000           1\n"
     ]
    }
   ],
   "source": [
    "# Sorting data\n",
    "sorted_df = df.sort_values(by='Salary', ascending=False)\n",
    "print(\"\\nDataFrame sorted by Salary (descending):\\n\", sorted_df)"
   ]
  },
  {
   "cell_type": "code",
   "execution_count": 58,
   "id": "b80b08e2-9fb5-429e-881d-6b397f3c2431",
   "metadata": {},
   "outputs": [
    {
     "data": {
      "text/html": [
       "<div>\n",
       "<style scoped>\n",
       "    .dataframe tbody tr th:only-of-type {\n",
       "        vertical-align: middle;\n",
       "    }\n",
       "\n",
       "    .dataframe tbody tr th {\n",
       "        vertical-align: top;\n",
       "    }\n",
       "\n",
       "    .dataframe thead th {\n",
       "        text-align: right;\n",
       "    }\n",
       "</style>\n",
       "<table border=\"1\" class=\"dataframe\">\n",
       "  <thead>\n",
       "    <tr style=\"text-align: right;\">\n",
       "      <th></th>\n",
       "      <th>index</th>\n",
       "      <th>Employee Name</th>\n",
       "      <th>Emp Age</th>\n",
       "      <th>Salary</th>\n",
       "      <th>Experience</th>\n",
       "    </tr>\n",
       "  </thead>\n",
       "  <tbody>\n",
       "    <tr>\n",
       "      <th>0</th>\n",
       "      <td>3</td>\n",
       "      <td>David</td>\n",
       "      <td>32</td>\n",
       "      <td>120000</td>\n",
       "      <td>10</td>\n",
       "    </tr>\n",
       "    <tr>\n",
       "      <th>1</th>\n",
       "      <td>4</td>\n",
       "      <td>Eve</td>\n",
       "      <td>29</td>\n",
       "      <td>95000</td>\n",
       "      <td>8</td>\n",
       "    </tr>\n",
       "    <tr>\n",
       "      <th>2</th>\n",
       "      <td>1</td>\n",
       "      <td>Bob</td>\n",
       "      <td>27</td>\n",
       "      <td>80000</td>\n",
       "      <td>5</td>\n",
       "    </tr>\n",
       "    <tr>\n",
       "      <th>3</th>\n",
       "      <td>0</td>\n",
       "      <td>Alice</td>\n",
       "      <td>24</td>\n",
       "      <td>70000</td>\n",
       "      <td>2</td>\n",
       "    </tr>\n",
       "    <tr>\n",
       "      <th>4</th>\n",
       "      <td>5</td>\n",
       "      <td>Rohit</td>\n",
       "      <td>20</td>\n",
       "      <td>70000</td>\n",
       "      <td>2</td>\n",
       "    </tr>\n",
       "    <tr>\n",
       "      <th>5</th>\n",
       "      <td>2</td>\n",
       "      <td>None</td>\n",
       "      <td>22</td>\n",
       "      <td>65000</td>\n",
       "      <td>1</td>\n",
       "    </tr>\n",
       "  </tbody>\n",
       "</table>\n",
       "</div>"
      ],
      "text/plain": [
       "   index Employee Name  Emp Age  Salary  Experience\n",
       "0      3         David       32  120000          10\n",
       "1      4           Eve       29   95000           8\n",
       "2      1           Bob       27   80000           5\n",
       "3      0         Alice       24   70000           2\n",
       "4      5         Rohit       20   70000           2\n",
       "5      2          None       22   65000           1"
      ]
     },
     "execution_count": 58,
     "metadata": {},
     "output_type": "execute_result"
    }
   ],
   "source": [
    "sorted_df.reset_index()"
   ]
  },
  {
   "cell_type": "code",
   "execution_count": 59,
   "id": "4fef9661-b38a-484d-b5ce-31713ea96302",
   "metadata": {},
   "outputs": [],
   "source": [
    "sorted_df=sorted_df.iloc[:, 1:]"
   ]
  },
  {
   "cell_type": "markdown",
   "id": "5ac04708-899d-4dbe-88d7-186ef5ddc4e2",
   "metadata": {},
   "source": [
    "# sorted_df"
   ]
  },
  {
   "cell_type": "markdown",
   "id": "a75455af",
   "metadata": {},
   "source": [
    "### Saving data to csv and reading from it"
   ]
  },
  {
   "cell_type": "code",
   "execution_count": 61,
   "id": "654382f7",
   "metadata": {},
   "outputs": [
    {
     "name": "stdout",
     "output_type": "stream",
     "text": [
      "\n",
      "DataFrame saved to 'employee_data.csv'\n",
      "\n",
      "DataFrame read from 'employee_data.csv':\n",
      "   Employee Name  Emp Age  Salary  Experience\n",
      "0         Alice       24   70000           2\n",
      "1           Bob       27   80000           5\n",
      "2           NaN       22   65000           1\n",
      "3         David       32  120000          10\n",
      "4           Eve       29   95000           8\n",
      "5         Rohit       20   70000           2\n"
     ]
    }
   ],
   "source": [
    "# Saving DataFrame to a CSV file\n",
    "df.to_csv('employee_data1.csv', index=False)\n",
    "print(\"\\nDataFrame saved to 'employee_data.csv'\")\n",
    "\n",
    "# Reading DataFrame from a CSV file\n",
    "df_from_csv = pd.read_csv('employee_data.csv')\n",
    "print(\"\\nDataFrame read from 'employee_data.csv':\\n\", df_from_csv)"
   ]
  },
  {
   "cell_type": "code",
   "execution_count": null,
   "id": "deeb6d44",
   "metadata": {},
   "outputs": [],
   "source": []
  }
 ],
 "metadata": {
  "kernelspec": {
   "display_name": "Generative_AI",
   "language": "python",
   "name": "generative_ai"
  },
  "language_info": {
   "codemirror_mode": {
    "name": "ipython",
    "version": 3
   },
   "file_extension": ".py",
   "mimetype": "text/x-python",
   "name": "python",
   "nbconvert_exporter": "python",
   "pygments_lexer": "ipython3",
   "version": "3.9.19"
  }
 },
 "nbformat": 4,
 "nbformat_minor": 5
}
