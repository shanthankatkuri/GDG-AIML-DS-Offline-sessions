{
 "cells": [
  {
   "cell_type": "code",
   "execution_count": 1,
   "id": "270cad59",
   "metadata": {},
   "outputs": [],
   "source": [
    "import numpy as np\n",
    "import pandas as pd"
   ]
  },
  {
   "cell_type": "markdown",
   "id": "80512f9b",
   "metadata": {},
   "source": [
    "#### Create dataframe"
   ]
  },
  {
   "cell_type": "code",
   "execution_count": 2,
   "id": "ef2e5816",
   "metadata": {},
   "outputs": [],
   "source": [
    "data = {\n",
    "    'Name': ['Alice', 'Bob', 'Charlie', 'David', 'Eve'],\n",
    "    'Age': [24, 27, 22, 32, 29],\n",
    "    'City': ['New York', 'Los Angeles', 'Chicago', 'Houston', 'Phoenix'],\n",
    "    'Salary': [70000, 80000, 65000, 120000, 95000],\n",
    "    'Experience': [2, 5, 1, 10, 7]\n",
    "}"
   ]
  },
  {
   "cell_type": "code",
   "execution_count": 3,
   "id": "b6c436d3",
   "metadata": {},
   "outputs": [],
   "source": [
    "df = pd.DataFrame(data)"
   ]
  },
  {
   "cell_type": "markdown",
   "id": "f1e04f25",
   "metadata": {},
   "source": [
    "#### Displaying data types of columns"
   ]
  },
  {
   "cell_type": "code",
   "execution_count": 4,
   "id": "8736d1ba",
   "metadata": {},
   "outputs": [
    {
     "name": "stdout",
     "output_type": "stream",
     "text": [
      "Data types of columns:\n",
      " Name          object\n",
      "Age            int64\n",
      "City          object\n",
      "Salary         int64\n",
      "Experience     int64\n",
      "dtype: object\n"
     ]
    }
   ],
   "source": [
    "print(\"Data types of columns:\\n\", df.dtypes)"
   ]
  },
  {
   "cell_type": "markdown",
   "id": "1b50e66e",
   "metadata": {},
   "source": [
    "#### Converting data types"
   ]
  },
  {
   "cell_type": "code",
   "execution_count": 5,
   "id": "20d99163",
   "metadata": {},
   "outputs": [
    {
     "name": "stdout",
     "output_type": "stream",
     "text": [
      "\n",
      "DataFrame after converting Age to float:\n",
      " Name          object\n",
      "Age            int64\n",
      "City          object\n",
      "Salary         int64\n",
      "Experience     int64\n",
      "dtype: object\n"
     ]
    }
   ],
   "source": [
    "df['Age'] = df['Age'].astype(np.int64)\n",
    "print(\"\\nDataFrame after converting Age to float:\\n\", df.dtypes)"
   ]
  },
  {
   "cell_type": "markdown",
   "id": "818a31a7",
   "metadata": {},
   "source": [
    "#### Setting a column as the index"
   ]
  },
  {
   "cell_type": "code",
   "execution_count": 6,
   "id": "abd4aaa0",
   "metadata": {},
   "outputs": [
    {
     "name": "stdout",
     "output_type": "stream",
     "text": [
      "\n",
      "DataFrame after setting Name as index:\n",
      "          Age         City  Salary  Experience\n",
      "Name                                         \n",
      "Alice     24     New York   70000           2\n",
      "Bob       27  Los Angeles   80000           5\n",
      "Charlie   22      Chicago   65000           1\n",
      "David     32      Houston  120000          10\n",
      "Eve       29      Phoenix   95000           7\n"
     ]
    }
   ],
   "source": [
    "df.set_index('Name', inplace=True)\n",
    "print(\"\\nDataFrame after setting Name as index:\\n\", df)"
   ]
  },
  {
   "cell_type": "markdown",
   "id": "06f6f83e",
   "metadata": {},
   "source": [
    "#### Resetting the index"
   ]
  },
  {
   "cell_type": "code",
   "execution_count": 7,
   "id": "3cfdb4a0",
   "metadata": {},
   "outputs": [
    {
     "name": "stdout",
     "output_type": "stream",
     "text": [
      "\n",
      "DataFrame after resetting the index:\n",
      "       Name  Age         City  Salary  Experience\n",
      "0    Alice   24     New York   70000           2\n",
      "1      Bob   27  Los Angeles   80000           5\n",
      "2  Charlie   22      Chicago   65000           1\n",
      "3    David   32      Houston  120000          10\n",
      "4      Eve   29      Phoenix   95000           7\n"
     ]
    }
   ],
   "source": [
    "df.reset_index(inplace=True)\n",
    "print(\"\\nDataFrame after resetting the index:\\n\", df)"
   ]
  },
  {
   "cell_type": "markdown",
   "id": "c6c18f81",
   "metadata": {},
   "source": [
    "### Using the apply function to apply a function to each column"
   ]
  },
  {
   "cell_type": "code",
   "execution_count": 8,
   "id": "f37df20c",
   "metadata": {},
   "outputs": [
    {
     "name": "stdout",
     "output_type": "stream",
     "text": [
      "\n",
      "DataFrame after applying a function to the Salary column:\n",
      "       Name  Age         City  Salary  Experience  Salary in K1\n",
      "0    Alice   24     New York   70000           2         70001\n",
      "1      Bob   27  Los Angeles   80000           5         80001\n",
      "2  Charlie   22      Chicago   65000           1         65001\n",
      "3    David   32      Houston  120000          10        120001\n",
      "4      Eve   29      Phoenix   95000           7         95001\n"
     ]
    }
   ],
   "source": [
    "df['Salary in K1'] = df['Salary'].apply(lambda x: x+1)\n",
    "print(\"\\nDataFrame after applying a function to the Salary column:\\n\", df)"
   ]
  },
  {
   "cell_type": "markdown",
   "id": "dc4bf63a",
   "metadata": {},
   "source": [
    "### Using the applymap function to apply a function element-wise"
   ]
  },
  {
   "cell_type": "code",
   "execution_count": 9,
   "id": "41cdbacf",
   "metadata": {},
   "outputs": [
    {
     "name": "stdout",
     "output_type": "stream",
     "text": [
      "\n",
      "DataFrame after applying a function element-wise to Age and Salary:\n",
      "       Name  Age         City  Salary  Experience  Salary in K1\n",
      "0    Alice   25     New York   70001           2         70001\n",
      "1      Bob   28  Los Angeles   80001           5         80001\n",
      "2  Charlie   23      Chicago   65001           1         65001\n",
      "3    David   33      Houston  120001          10        120001\n",
      "4      Eve   30      Phoenix   95001           7         95001\n"
     ]
    },
    {
     "name": "stderr",
     "output_type": "stream",
     "text": [
      "C:\\Users\\rohit\\AppData\\Local\\Temp\\ipykernel_11556\\650784304.py:1: FutureWarning: DataFrame.applymap has been deprecated. Use DataFrame.map instead.\n",
      "  df[['Age', 'Salary']] = df[['Age', 'Salary']].applymap(lambda x: x + 1)\n"
     ]
    }
   ],
   "source": [
    "df[['Age', 'Salary']] = df[['Age', 'Salary']].applymap(lambda x: x + 1)\n",
    "print(\"\\nDataFrame after applying a function element-wise to Age and Salary:\\n\", df)"
   ]
  },
  {
   "cell_type": "markdown",
   "id": "c86c4485",
   "metadata": {},
   "source": [
    "### Using the merge function to merge DataFrames"
   ]
  },
  {
   "cell_type": "code",
   "execution_count": 10,
   "id": "86cc7410",
   "metadata": {},
   "outputs": [
    {
     "name": "stdout",
     "output_type": "stream",
     "text": [
      "\n",
      "Merged DataFrame:\n",
      "       Name  Age         City  Salary  Experience  Salary in K1   Department\n",
      "0    Alice   25     New York   70001           2         70001           HR\n",
      "1      Bob   28  Los Angeles   80001           5         80001  Engineering\n",
      "2  Charlie   23      Chicago   65001           1         65001    Marketing\n",
      "3    David   33      Houston  120001          10        120001        Sales\n",
      "4      Eve   30      Phoenix   95001           7         95001      Finance\n"
     ]
    }
   ],
   "source": [
    "additional_data = {\n",
    "    'Name': ['Alice', 'Bob', 'Charlie', 'David', 'Eve'],\n",
    "    'Department': ['HR', 'Engineering', 'Marketing', 'Sales', 'Finance']\n",
    "}\n",
    "df_additional = pd.DataFrame(additional_data)\n",
    "merged_df = pd.merge(df, df_additional, on='Name')\n",
    "print(\"\\nMerged DataFrame:\\n\", merged_df)"
   ]
  },
  {
   "cell_type": "markdown",
   "id": "d0fd31be",
   "metadata": {},
   "source": [
    "### Using the pivot_table function for data summarization"
   ]
  },
  {
   "cell_type": "code",
   "execution_count": 11,
   "id": "2814edeb",
   "metadata": {},
   "outputs": [
    {
     "name": "stdout",
     "output_type": "stream",
     "text": [
      "\n",
      "Pivot table of Salary by City and Experience:\n",
      " Experience        1        2        5        7         10\n",
      "City                                                     \n",
      "Chicago      65001.0      NaN      NaN      NaN       NaN\n",
      "Houston          NaN      NaN      NaN      NaN  120001.0\n",
      "Los Angeles      NaN      NaN  80001.0      NaN       NaN\n",
      "New York         NaN  70001.0      NaN      NaN       NaN\n",
      "Phoenix          NaN      NaN      NaN  95001.0       NaN\n"
     ]
    },
    {
     "name": "stderr",
     "output_type": "stream",
     "text": [
      "C:\\Users\\rohit\\AppData\\Local\\Temp\\ipykernel_11556\\1594393871.py:1: FutureWarning: The provided callable <function mean at 0x0000020D70DE1430> is currently using DataFrameGroupBy.mean. In a future version of pandas, the provided callable will be used directly. To keep current behavior pass the string \"mean\" instead.\n",
      "  pivot = df.pivot_table(values='Salary', index='City', columns='Experience', aggfunc=np.mean)\n"
     ]
    }
   ],
   "source": [
    "pivot = df.pivot_table(values='Salary', index='City', columns='Experience', aggfunc=np.mean)\n",
    "print(\"\\nPivot table of Salary by City and Experience:\\n\", pivot)"
   ]
  },
  {
   "cell_type": "markdown",
   "id": "102a39bc",
   "metadata": {},
   "source": [
    "### Using the cut function to segment and sort data into bins"
   ]
  },
  {
   "cell_type": "code",
   "execution_count": 16,
   "id": "ab8b83d0",
   "metadata": {},
   "outputs": [
    {
     "name": "stdout",
     "output_type": "stream",
     "text": [
      "\n",
      "DataFrame after segmenting Age into bins:\n",
      "       Name   Age         City  Salary  Experience  Salary in K  \\\n",
      "0    Alice  25.0     New York   70001           2         70.0   \n",
      "1      Bob  28.0  Los Angeles   80001           5         80.0   \n",
      "2  Charlie  23.0      Chicago   65001           1         65.0   \n",
      "3    David  33.0      Houston  120001          10        120.0   \n",
      "4      Eve  30.0      Phoenix   95001           7         95.0   \n",
      "\n",
      "  City Abbreviation Age Group  \n",
      "0                NY     20-25  \n",
      "1                LA     25-30  \n",
      "2               CHI     20-25  \n",
      "3               HOU     30-35  \n",
      "4               PHX     25-30  \n"
     ]
    }
   ],
   "source": [
    "df['Age Group'] = pd.cut(df['Age'], bins=[20, 25, 30, 35], labels=['20-25', '25-30', '30-35'])\n",
    "print(\"\\nDataFrame after segmenting Age into bins:\\n\", df)"
   ]
  },
  {
   "cell_type": "markdown",
   "id": "c32a455a",
   "metadata": {},
   "source": [
    "### Using the isin function to filter DataFrame based on a list of values"
   ]
  },
  {
   "cell_type": "code",
   "execution_count": 19,
   "id": "d0fded68",
   "metadata": {},
   "outputs": [
    {
     "name": "stdout",
     "output_type": "stream",
     "text": [
      "\n",
      "Filtered DataFrame with cities New York and Chicago:\n",
      "       Name   Age      City  Salary  Experience  Salary in K City Abbreviation  \\\n",
      "0    Alice  25.0  New York   70001           2         70.0                NY   \n",
      "2  Charlie  23.0   Chicago   65001           1         65.0               CHI   \n",
      "\n",
      "  Age Group Salary Quantile  \n",
      "0     20-25              Q1  \n",
      "2     20-25              Q1  \n"
     ]
    }
   ],
   "source": [
    "filtered_df = df[df['City'].isin(['New York', 'Chicago'])]\n",
    "print(\"\\nFiltered DataFrame with cities New York and Chicago:\\n\", filtered_df)"
   ]
  },
  {
   "cell_type": "markdown",
   "id": "2df77ec1",
   "metadata": {},
   "source": [
    "### Using the rank function to compute numerical data ranks"
   ]
  },
  {
   "cell_type": "code",
   "execution_count": 20,
   "id": "0fa346a8",
   "metadata": {},
   "outputs": [
    {
     "name": "stdout",
     "output_type": "stream",
     "text": [
      "\n",
      "DataFrame after computing salary ranks:\n",
      "       Name   Age         City  Salary  Experience  Salary in K  \\\n",
      "0    Alice  25.0     New York   70001           2         70.0   \n",
      "1      Bob  28.0  Los Angeles   80001           5         80.0   \n",
      "2  Charlie  23.0      Chicago   65001           1         65.0   \n",
      "3    David  33.0      Houston  120001          10        120.0   \n",
      "4      Eve  30.0      Phoenix   95001           7         95.0   \n",
      "\n",
      "  City Abbreviation Age Group Salary Quantile  Salary Rank  \n",
      "0                NY     20-25              Q1          2.0  \n",
      "1                LA     25-30              Q2          3.0  \n",
      "2               CHI     20-25              Q1          1.0  \n",
      "3               HOU     30-35              Q4          5.0  \n",
      "4               PHX     25-30              Q3          4.0  \n"
     ]
    }
   ],
   "source": [
    "df['Salary Rank'] = df['Salary'].rank()\n",
    "print(\"\\nDataFrame after computing salary ranks:\\n\", df)"
   ]
  },
  {
   "cell_type": "markdown",
   "id": "26dbdcf7",
   "metadata": {},
   "source": [
    "### Saving DataFrame to an Excel file"
   ]
  },
  {
   "cell_type": "code",
   "execution_count": 12,
   "id": "dbdda392",
   "metadata": {},
   "outputs": [
    {
     "name": "stdout",
     "output_type": "stream",
     "text": [
      "\n",
      "DataFrame saved to 'employee_data.xlsx'\n"
     ]
    }
   ],
   "source": [
    "df.to_excel('employee_data.xlsx', index=False)\n",
    "print(\"\\nDataFrame saved to 'employee_data.xlsx'\")"
   ]
  },
  {
   "cell_type": "markdown",
   "id": "856f134f",
   "metadata": {},
   "source": [
    "### Reading DataFrame from an Excel file"
   ]
  },
  {
   "cell_type": "code",
   "execution_count": 22,
   "id": "d7cefaff",
   "metadata": {},
   "outputs": [
    {
     "name": "stdout",
     "output_type": "stream",
     "text": [
      "\n",
      "DataFrame read from 'employee_data.xlsx':\n",
      "       Name  Age         City  Salary  Experience  Salary in K  \\\n",
      "0    Alice   25     New York   70001           2           70   \n",
      "1      Bob   28  Los Angeles   80001           5           80   \n",
      "2  Charlie   23      Chicago   65001           1           65   \n",
      "3    David   33      Houston  120001          10          120   \n",
      "4      Eve   30      Phoenix   95001           7           95   \n",
      "\n",
      "  City Abbreviation Age Group Salary Quantile  Salary Rank  \n",
      "0                NY     20-25              Q1            2  \n",
      "1                LA     25-30              Q2            3  \n",
      "2               CHI     20-25              Q1            1  \n",
      "3               HOU     30-35              Q4            5  \n",
      "4               PHX     25-30              Q3            4  \n"
     ]
    }
   ],
   "source": [
    "df_from_excel = pd.read_excel('employee_data.xlsx')\n",
    "print(\"\\nDataFrame read from 'employee_data.xlsx':\\n\", df_from_excel)"
   ]
  },
  {
   "cell_type": "code",
   "execution_count": null,
   "id": "f47b2386",
   "metadata": {},
   "outputs": [],
   "source": []
  }
 ],
 "metadata": {
  "kernelspec": {
   "display_name": "Generative_AI",
   "language": "python",
   "name": "generative_ai"
  },
  "language_info": {
   "codemirror_mode": {
    "name": "ipython",
    "version": 3
   },
   "file_extension": ".py",
   "mimetype": "text/x-python",
   "name": "python",
   "nbconvert_exporter": "python",
   "pygments_lexer": "ipython3",
   "version": "3.9.19"
  }
 },
 "nbformat": 4,
 "nbformat_minor": 5
}
